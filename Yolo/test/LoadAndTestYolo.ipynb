{
  "nbformat": 4,
  "nbformat_minor": 0,
  "metadata": {
    "colab": {
      "provenance": [],
      "authorship_tag": "ABX9TyN2Qht+J+BTRIN/5ka8jSMc",
      "include_colab_link": true
    },
    "kernelspec": {
      "name": "python3",
      "display_name": "Python 3"
    },
    "language_info": {
      "name": "python"
    }
  },
  "cells": [
    {
      "cell_type": "markdown",
      "metadata": {
        "id": "view-in-github",
        "colab_type": "text"
      },
      "source": [
        "<a href=\"https://colab.research.google.com/github/altaga/Open-Driving-Monitor/blob/main/Yolo/test/LoadAndTestYolo.ipynb\" target=\"_parent\"><img src=\"https://colab.research.google.com/assets/colab-badge.svg\" alt=\"Open In Colab\"/></a>"
      ]
    },
    {
      "cell_type": "markdown",
      "source": [
        "Download models and image for the test"
      ],
      "metadata": {
        "id": "ZwJNbaCw72yY"
      }
    },
    {
      "cell_type": "code",
      "source": [
        "# Tiny\n",
        "!wget https://pjreddie.com/media/files/yolov3-tiny.weights\n",
        "!wget https://raw.githubusercontent.com/pjreddie/darknet/master/cfg/yolov3-tiny.cfg\n",
        "# Labels\n",
        "!wget https://opencv-tutorial.readthedocs.io/en/latest/_downloads/a9fb13cbea0745f3d11da9017d1b8467/coco.names\n",
        "# Test Image\n",
        "!wget https://raw.githubusercontent.com/altaga/Open-Driving-Monitor/main/Yolo/test/yoloTest.jpg"
      ],
      "metadata": {
        "id": "TKSGNCk_Kmm8"
      },
      "execution_count": null,
      "outputs": []
    },
    {
      "cell_type": "markdown",
      "source": [
        "Testing image and display the results. Since YoloV3 networks are already trained by the Darknet team, we are only implementing them in OpenCV DNN."
      ],
      "metadata": {
        "id": "c5WLxFww77c4"
      }
    },
    {
      "cell_type": "code",
      "execution_count": null,
      "metadata": {
        "id": "VgIm9ZsKKcjH"
      },
      "outputs": [],
      "source": [
        "# YOLO object detection\n",
        "import cv2 as cv\n",
        "import numpy as np\n",
        "import time\n",
        "from matplotlib import pyplot as plt\n",
        "import time\n",
        "\n",
        "minConfidence  = 0.5\n",
        "\n",
        "confidences = []\n",
        "boxes = []\n",
        "classIDs = []\n",
        "classes = open('coco.names').read().strip().split('\\n')\n",
        "\n",
        "img = cv.imread('yoloTest.jpg')\n",
        "colorIMG = cv.cvtColor(img, cv.COLOR_BGR2RGB)\n",
        "net = cv.dnn.readNetFromDarknet('yolov3-tiny.cfg', 'yolov3-tiny.weights')\n",
        "net.setPreferableBackend(cv.dnn.DNN_BACKEND_OPENCV)\n",
        "ln = net.getLayerNames()\n",
        "ln = [ln[i - 1] for i in net.getUnconnectedOutLayers()]\n",
        "start = time.process_time()\n",
        "blob = cv.dnn.blobFromImage(img, 1/255.0, (416, 416), swapRB=True, crop=False)\n",
        "r = blob[0, 0, :, :]\n",
        "net.setInput(blob)\n",
        "outputs = net.forward(ln)\n",
        "\n",
        "# Usable Detections as data\n",
        "for output in outputs:\n",
        "  for detection in output:\n",
        "    scores = detection[5:]\n",
        "    classID = np.argmax(scores)\n",
        "    confidence = scores[classID]\n",
        "    if confidence >= minConfidence:\n",
        "      confidences.append(float(confidence))\n",
        "      classIDs.append(classID)\n",
        "\n",
        "if len(confidences) > 0:\n",
        "  for i in range(0,len(confidences)):\n",
        "    text = \"{}: {:.4f}\".format(classes[classIDs[i]], confidences[i])\n",
        "    print(text)\n",
        "\n",
        "print(time.process_time() - start)\n",
        "\n",
        "# Show Detections\n",
        "\n",
        "boxes = []\n",
        "confidences = []\n",
        "classIDs = []\n",
        "colors = np.random.randint(0, 255, size=(len(classes), 3), dtype='uint8')\n",
        "h, w = img.shape[:2]\n",
        "\n",
        "for output in outputs:\n",
        "    for detection in output:\n",
        "        scores = detection[5:]\n",
        "        classID = np.argmax(scores)\n",
        "        confidence = scores[classID]\n",
        "        if confidence >= minConfidence:\n",
        "            box = detection[:4] * np.array([w, h, w, h])\n",
        "            (centerX, centerY, width, height) = box.astype(\"int\")\n",
        "            x = int(centerX - (width / 2))\n",
        "            y = int(centerY - (height / 2))\n",
        "            box = [x, y, int(width), int(height)]\n",
        "            boxes.append(box)\n",
        "            confidences.append(float(confidence))\n",
        "            classIDs.append(classID)\n",
        "\n",
        "indices = cv.dnn.NMSBoxes(boxes, confidences, 0.5, 0.4)\n",
        "\n",
        "if len(indices) > 0:\n",
        "    for i in indices.flatten():\n",
        "        (x, y) = (boxes[i][0], boxes[i][1])\n",
        "        (w, h) = (boxes[i][2], boxes[i][3])\n",
        "        color = [int(c) for c in colors[classIDs[i]]]\n",
        "        cv.rectangle(colorIMG, (x, y), (x + w, y + h), color, 2)\n",
        "        text = \"{}: {:.4f}\".format(classes[classIDs[i]], confidences[i])\n",
        "        cv.putText(colorIMG, text, (x, y - 5), cv.FONT_HERSHEY_SIMPLEX, 0.5, color, 1)\n",
        "\n",
        "plt.imshow(colorIMG)\n"
      ]
    }
  ]
}